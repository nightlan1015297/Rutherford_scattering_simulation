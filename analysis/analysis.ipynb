{
 "cells": [
  {
   "cell_type": "code",
   "execution_count": 90,
   "metadata": {},
   "outputs": [],
   "source": [
    "import pandas as pd\n",
    "import plotly.graph_objects as go\n",
    "import plotly.express as px"
   ]
  },
  {
   "cell_type": "code",
   "execution_count": 95,
   "metadata": {},
   "outputs": [],
   "source": [
    "fig = go.Figure()\n",
    "_l = 1e15 \n",
    "fac = [-10,-8,-6,-4,-2,0,2,4,6,8,10]\n",
    "\n",
    "for i in range(len(fac)):\n",
    "    c = px.colors.qualitative.Plotly[abs(i-len(fac)//2)+4]\n",
    "    data = pd.read_csv(\"../output/data/\"+str(fac[i])+\".csv\")\n",
    "    fig.add_trace(go.Scatter(x=data['x'][::10], y=data['y'][::10], mode='lines+markers',line=dict(width=1),marker=dict(size=3,color=c) , name=r'$\\text{'+f'{fac[i]*10}'+'} fm$'))\n",
    "\n",
    "gold_x = 100\n",
    "gold_y = 0\n",
    "radii = 1\n",
    "fig.add_shape(type=\"circle\",\n",
    "    xref=\"x\", yref=\"y\",\n",
    "    fillcolor=\"#FFD700\",\n",
    "    x0=gold_x-radii, y0=gold_y-radii, x1=gold_x+radii, y1=gold_y+radii,\n",
    "\n",
    ")\n",
    "fig.add_annotation(x=gold_x+radii, y=gold_y,\n",
    "            text=\"AU atom\",ax=40,ay=0,\n",
    "            showarrow=True,\n",
    "            arrowhead=1)\n",
    "\n",
    "fig.update_layout(\n",
    "    title=\"Alpha particle trajectory\",\n",
    "    xaxis_title= r'$\\text{ x} (fm)$',\n",
    "    yaxis_title= r'$\\text{ y} (fm)$',\n",
    "    legend_title_text=r'$\\text{ Impact factor } (fm)$',\n",
    "    font=dict(\n",
    "        size=12,\n",
    "    ),\n",
    "    template='plotly_dark',\n",
    "    width = 1000,\n",
    "    height = 1000,\n",
    ")\n",
    "\n",
    "\n",
    "\n",
    "fig.update_yaxes(range = [-50,50])\n",
    "fig.layout.xaxis.scaleanchor=\"y\"\n",
    "fig.write_image(\"../output/img/Alpha_trajectory.png\",scale=5)\n",
    "fig.write_html(\"../output/html/Alpha_trajectory.html\", include_mathjax='cdn',include_plotlyjs='cdn',full_html=False)\n",
    "fig.show()"
   ]
  },
  {
   "cell_type": "code",
   "execution_count": null,
   "metadata": {},
   "outputs": [],
   "source": []
  }
 ],
 "metadata": {
  "kernelspec": {
   "display_name": "intel",
   "language": "python",
   "name": "python3"
  },
  "language_info": {
   "codemirror_mode": {
    "name": "ipython",
    "version": 3
   },
   "file_extension": ".py",
   "mimetype": "text/x-python",
   "name": "python",
   "nbconvert_exporter": "python",
   "pygments_lexer": "ipython3",
   "version": "3.9.18"
  }
 },
 "nbformat": 4,
 "nbformat_minor": 2
}
